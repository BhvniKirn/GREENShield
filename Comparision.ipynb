{
  "nbformat": 4,
  "nbformat_minor": 0,
  "metadata": {
    "colab": {
      "provenance": [],
      "gpuType": "T4"
    },
    "kernelspec": {
      "name": "python3",
      "display_name": "Python 3"
    },
    "language_info": {
      "name": "python"
    },
    "accelerator": "GPU"
  },
  "cells": [
    {
      "cell_type": "markdown",
      "source": [
        "### **EfficientNet VS ResNet**"
      ],
      "metadata": {
        "id": "2AlL32zd--rw"
      }
    },
    {
      "cell_type": "markdown",
      "source": [
        "##### Comparision Between the Two Models"
      ],
      "metadata": {
        "id": "3d5OyMM85qlq"
      }
    },
    {
      "cell_type": "code",
      "execution_count": 1,
      "metadata": {
        "colab": {
          "base_uri": "https://localhost:8080/"
        },
        "id": "wj7vz7T4v9eU",
        "outputId": "23495aea-6627-4298-cf71-c0f8f93fa75a"
      },
      "outputs": [
        {
          "output_type": "stream",
          "name": "stdout",
          "text": [
            "Mounted at /content/drive\n"
          ]
        }
      ],
      "source": [
        "from google.colab import drive\n",
        "drive.mount('/content/drive')"
      ]
    },
    {
      "cell_type": "code",
      "source": [],
      "metadata": {
        "id": "-oi9hdHV4pjR"
      },
      "execution_count": null,
      "outputs": []
    },
    {
      "cell_type": "code",
      "source": [
        "# Per session copy\n",
        "!cp -r \"/content/drive/MyDrive/green/all_dataset/test\" /content/test\n"
      ],
      "metadata": {
        "id": "1nlYvSB54pf1"
      },
      "execution_count": 1,
      "outputs": []
    },
    {
      "cell_type": "code",
      "source": [],
      "metadata": {
        "id": "eZZcCjx-4pdf"
      },
      "execution_count": null,
      "outputs": []
    },
    {
      "cell_type": "code",
      "source": [
        "test_path = \"/content/test/test\"\n"
      ],
      "metadata": {
        "id": "4Wflo9Dx4tgC"
      },
      "execution_count": 14,
      "outputs": []
    },
    {
      "cell_type": "code",
      "source": [],
      "metadata": {
        "id": "VDWERiEo4pa2"
      },
      "execution_count": null,
      "outputs": []
    },
    {
      "cell_type": "markdown",
      "source": [
        "##### Import Required Libraries"
      ],
      "metadata": {
        "id": "Rcw_SBFg99fI"
      }
    },
    {
      "cell_type": "code",
      "source": [
        "import torch\n",
        "import torch.nn as nn\n",
        "from torchvision.models import resnet50, efficientnet_b0\n",
        "from torchvision import transforms\n",
        "from torchvision.datasets import ImageFolder\n",
        "from torch.utils.data import DataLoader\n",
        "from sklearn.metrics import classification_report\n",
        "import matplotlib.pyplot as plt\n",
        "import numpy as np\n",
        "import os\n",
        "from sklearn.metrics import precision_recall_fscore_support\n"
      ],
      "metadata": {
        "id": "_7EGUwobwLJf"
      },
      "execution_count": 4,
      "outputs": []
    },
    {
      "cell_type": "code",
      "source": [],
      "metadata": {
        "id": "Vo0p4a0ewLF9"
      },
      "execution_count": null,
      "outputs": []
    },
    {
      "cell_type": "code",
      "source": [
        "\n",
        "image_size = 224\n",
        "batch_size = 32\n",
        "device = torch.device(\"cuda\" if torch.cuda.is_available() else \"cpu\")\n",
        "\n",
        "# Paths to model weights\n",
        "resnet_path = \"/content/drive/MyDrive/green/all_dataset/models/best_resnet50_model.pth\"\n",
        "effnet_path = \"/content/drive/MyDrive/green/all_dataset/models/best_efficientnet_model.pth\"\n",
        "\n",
        "\n",
        "# Transform\n",
        "test_transform = transforms.Compose([\n",
        "    transforms.Resize((image_size, image_size)),\n",
        "    transforms.ToTensor(),\n",
        "    transforms.Normalize([0.5]*3, [0.5]*3)\n",
        "])\n",
        "\n",
        "\n",
        "test_dataset = ImageFolder(test_path, transform=test_transform)\n",
        "test_loader = DataLoader(test_dataset, batch_size=batch_size, shuffle=False, num_workers=2)\n",
        "class_names = test_dataset.classes\n"
      ],
      "metadata": {
        "id": "okHMNAkswLD1"
      },
      "execution_count": 15,
      "outputs": []
    },
    {
      "cell_type": "code",
      "source": [],
      "metadata": {
        "id": "Y8-5YC0GwLBR"
      },
      "execution_count": null,
      "outputs": []
    },
    {
      "cell_type": "markdown",
      "source": [
        "##### Model Comparisions"
      ],
      "metadata": {
        "id": "J_R921xN-JRu"
      }
    },
    {
      "cell_type": "code",
      "source": [
        "# EfficientNet\n",
        "model_eff = efficientnet_b0(weights=None)\n",
        "model_eff.classifier = nn.Sequential(\n",
        "    nn.Dropout(0.3),\n",
        "    nn.Linear(model_eff.classifier[1].in_features, len(class_names))\n",
        ")\n",
        "model_eff.load_state_dict(torch.load(effnet_path, map_location=device))\n",
        "model_eff.to(device).eval()\n",
        "\n",
        "# ResNet-50\n",
        "model_res = resnet50(weights=None)\n",
        "model_res.fc = nn.Sequential(\n",
        "    nn.Dropout(0.5),\n",
        "    nn.Linear(model_res.fc.in_features, len(class_names))\n",
        ")\n",
        "model_res.load_state_dict(torch.load(resnet_path, map_location=device))\n",
        "model_res.to(device).eval()\n"
      ],
      "metadata": {
        "colab": {
          "base_uri": "https://localhost:8080/"
        },
        "id": "USyl7LuowK-6",
        "outputId": "3faae484-58ef-4747-e724-b9d3201fb63b"
      },
      "execution_count": 16,
      "outputs": [
        {
          "output_type": "execute_result",
          "data": {
            "text/plain": [
              "ResNet(\n",
              "  (conv1): Conv2d(3, 64, kernel_size=(7, 7), stride=(2, 2), padding=(3, 3), bias=False)\n",
              "  (bn1): BatchNorm2d(64, eps=1e-05, momentum=0.1, affine=True, track_running_stats=True)\n",
              "  (relu): ReLU(inplace=True)\n",
              "  (maxpool): MaxPool2d(kernel_size=3, stride=2, padding=1, dilation=1, ceil_mode=False)\n",
              "  (layer1): Sequential(\n",
              "    (0): Bottleneck(\n",
              "      (conv1): Conv2d(64, 64, kernel_size=(1, 1), stride=(1, 1), bias=False)\n",
              "      (bn1): BatchNorm2d(64, eps=1e-05, momentum=0.1, affine=True, track_running_stats=True)\n",
              "      (conv2): Conv2d(64, 64, kernel_size=(3, 3), stride=(1, 1), padding=(1, 1), bias=False)\n",
              "      (bn2): BatchNorm2d(64, eps=1e-05, momentum=0.1, affine=True, track_running_stats=True)\n",
              "      (conv3): Conv2d(64, 256, kernel_size=(1, 1), stride=(1, 1), bias=False)\n",
              "      (bn3): BatchNorm2d(256, eps=1e-05, momentum=0.1, affine=True, track_running_stats=True)\n",
              "      (relu): ReLU(inplace=True)\n",
              "      (downsample): Sequential(\n",
              "        (0): Conv2d(64, 256, kernel_size=(1, 1), stride=(1, 1), bias=False)\n",
              "        (1): BatchNorm2d(256, eps=1e-05, momentum=0.1, affine=True, track_running_stats=True)\n",
              "      )\n",
              "    )\n",
              "    (1): Bottleneck(\n",
              "      (conv1): Conv2d(256, 64, kernel_size=(1, 1), stride=(1, 1), bias=False)\n",
              "      (bn1): BatchNorm2d(64, eps=1e-05, momentum=0.1, affine=True, track_running_stats=True)\n",
              "      (conv2): Conv2d(64, 64, kernel_size=(3, 3), stride=(1, 1), padding=(1, 1), bias=False)\n",
              "      (bn2): BatchNorm2d(64, eps=1e-05, momentum=0.1, affine=True, track_running_stats=True)\n",
              "      (conv3): Conv2d(64, 256, kernel_size=(1, 1), stride=(1, 1), bias=False)\n",
              "      (bn3): BatchNorm2d(256, eps=1e-05, momentum=0.1, affine=True, track_running_stats=True)\n",
              "      (relu): ReLU(inplace=True)\n",
              "    )\n",
              "    (2): Bottleneck(\n",
              "      (conv1): Conv2d(256, 64, kernel_size=(1, 1), stride=(1, 1), bias=False)\n",
              "      (bn1): BatchNorm2d(64, eps=1e-05, momentum=0.1, affine=True, track_running_stats=True)\n",
              "      (conv2): Conv2d(64, 64, kernel_size=(3, 3), stride=(1, 1), padding=(1, 1), bias=False)\n",
              "      (bn2): BatchNorm2d(64, eps=1e-05, momentum=0.1, affine=True, track_running_stats=True)\n",
              "      (conv3): Conv2d(64, 256, kernel_size=(1, 1), stride=(1, 1), bias=False)\n",
              "      (bn3): BatchNorm2d(256, eps=1e-05, momentum=0.1, affine=True, track_running_stats=True)\n",
              "      (relu): ReLU(inplace=True)\n",
              "    )\n",
              "  )\n",
              "  (layer2): Sequential(\n",
              "    (0): Bottleneck(\n",
              "      (conv1): Conv2d(256, 128, kernel_size=(1, 1), stride=(1, 1), bias=False)\n",
              "      (bn1): BatchNorm2d(128, eps=1e-05, momentum=0.1, affine=True, track_running_stats=True)\n",
              "      (conv2): Conv2d(128, 128, kernel_size=(3, 3), stride=(2, 2), padding=(1, 1), bias=False)\n",
              "      (bn2): BatchNorm2d(128, eps=1e-05, momentum=0.1, affine=True, track_running_stats=True)\n",
              "      (conv3): Conv2d(128, 512, kernel_size=(1, 1), stride=(1, 1), bias=False)\n",
              "      (bn3): BatchNorm2d(512, eps=1e-05, momentum=0.1, affine=True, track_running_stats=True)\n",
              "      (relu): ReLU(inplace=True)\n",
              "      (downsample): Sequential(\n",
              "        (0): Conv2d(256, 512, kernel_size=(1, 1), stride=(2, 2), bias=False)\n",
              "        (1): BatchNorm2d(512, eps=1e-05, momentum=0.1, affine=True, track_running_stats=True)\n",
              "      )\n",
              "    )\n",
              "    (1): Bottleneck(\n",
              "      (conv1): Conv2d(512, 128, kernel_size=(1, 1), stride=(1, 1), bias=False)\n",
              "      (bn1): BatchNorm2d(128, eps=1e-05, momentum=0.1, affine=True, track_running_stats=True)\n",
              "      (conv2): Conv2d(128, 128, kernel_size=(3, 3), stride=(1, 1), padding=(1, 1), bias=False)\n",
              "      (bn2): BatchNorm2d(128, eps=1e-05, momentum=0.1, affine=True, track_running_stats=True)\n",
              "      (conv3): Conv2d(128, 512, kernel_size=(1, 1), stride=(1, 1), bias=False)\n",
              "      (bn3): BatchNorm2d(512, eps=1e-05, momentum=0.1, affine=True, track_running_stats=True)\n",
              "      (relu): ReLU(inplace=True)\n",
              "    )\n",
              "    (2): Bottleneck(\n",
              "      (conv1): Conv2d(512, 128, kernel_size=(1, 1), stride=(1, 1), bias=False)\n",
              "      (bn1): BatchNorm2d(128, eps=1e-05, momentum=0.1, affine=True, track_running_stats=True)\n",
              "      (conv2): Conv2d(128, 128, kernel_size=(3, 3), stride=(1, 1), padding=(1, 1), bias=False)\n",
              "      (bn2): BatchNorm2d(128, eps=1e-05, momentum=0.1, affine=True, track_running_stats=True)\n",
              "      (conv3): Conv2d(128, 512, kernel_size=(1, 1), stride=(1, 1), bias=False)\n",
              "      (bn3): BatchNorm2d(512, eps=1e-05, momentum=0.1, affine=True, track_running_stats=True)\n",
              "      (relu): ReLU(inplace=True)\n",
              "    )\n",
              "    (3): Bottleneck(\n",
              "      (conv1): Conv2d(512, 128, kernel_size=(1, 1), stride=(1, 1), bias=False)\n",
              "      (bn1): BatchNorm2d(128, eps=1e-05, momentum=0.1, affine=True, track_running_stats=True)\n",
              "      (conv2): Conv2d(128, 128, kernel_size=(3, 3), stride=(1, 1), padding=(1, 1), bias=False)\n",
              "      (bn2): BatchNorm2d(128, eps=1e-05, momentum=0.1, affine=True, track_running_stats=True)\n",
              "      (conv3): Conv2d(128, 512, kernel_size=(1, 1), stride=(1, 1), bias=False)\n",
              "      (bn3): BatchNorm2d(512, eps=1e-05, momentum=0.1, affine=True, track_running_stats=True)\n",
              "      (relu): ReLU(inplace=True)\n",
              "    )\n",
              "  )\n",
              "  (layer3): Sequential(\n",
              "    (0): Bottleneck(\n",
              "      (conv1): Conv2d(512, 256, kernel_size=(1, 1), stride=(1, 1), bias=False)\n",
              "      (bn1): BatchNorm2d(256, eps=1e-05, momentum=0.1, affine=True, track_running_stats=True)\n",
              "      (conv2): Conv2d(256, 256, kernel_size=(3, 3), stride=(2, 2), padding=(1, 1), bias=False)\n",
              "      (bn2): BatchNorm2d(256, eps=1e-05, momentum=0.1, affine=True, track_running_stats=True)\n",
              "      (conv3): Conv2d(256, 1024, kernel_size=(1, 1), stride=(1, 1), bias=False)\n",
              "      (bn3): BatchNorm2d(1024, eps=1e-05, momentum=0.1, affine=True, track_running_stats=True)\n",
              "      (relu): ReLU(inplace=True)\n",
              "      (downsample): Sequential(\n",
              "        (0): Conv2d(512, 1024, kernel_size=(1, 1), stride=(2, 2), bias=False)\n",
              "        (1): BatchNorm2d(1024, eps=1e-05, momentum=0.1, affine=True, track_running_stats=True)\n",
              "      )\n",
              "    )\n",
              "    (1): Bottleneck(\n",
              "      (conv1): Conv2d(1024, 256, kernel_size=(1, 1), stride=(1, 1), bias=False)\n",
              "      (bn1): BatchNorm2d(256, eps=1e-05, momentum=0.1, affine=True, track_running_stats=True)\n",
              "      (conv2): Conv2d(256, 256, kernel_size=(3, 3), stride=(1, 1), padding=(1, 1), bias=False)\n",
              "      (bn2): BatchNorm2d(256, eps=1e-05, momentum=0.1, affine=True, track_running_stats=True)\n",
              "      (conv3): Conv2d(256, 1024, kernel_size=(1, 1), stride=(1, 1), bias=False)\n",
              "      (bn3): BatchNorm2d(1024, eps=1e-05, momentum=0.1, affine=True, track_running_stats=True)\n",
              "      (relu): ReLU(inplace=True)\n",
              "    )\n",
              "    (2): Bottleneck(\n",
              "      (conv1): Conv2d(1024, 256, kernel_size=(1, 1), stride=(1, 1), bias=False)\n",
              "      (bn1): BatchNorm2d(256, eps=1e-05, momentum=0.1, affine=True, track_running_stats=True)\n",
              "      (conv2): Conv2d(256, 256, kernel_size=(3, 3), stride=(1, 1), padding=(1, 1), bias=False)\n",
              "      (bn2): BatchNorm2d(256, eps=1e-05, momentum=0.1, affine=True, track_running_stats=True)\n",
              "      (conv3): Conv2d(256, 1024, kernel_size=(1, 1), stride=(1, 1), bias=False)\n",
              "      (bn3): BatchNorm2d(1024, eps=1e-05, momentum=0.1, affine=True, track_running_stats=True)\n",
              "      (relu): ReLU(inplace=True)\n",
              "    )\n",
              "    (3): Bottleneck(\n",
              "      (conv1): Conv2d(1024, 256, kernel_size=(1, 1), stride=(1, 1), bias=False)\n",
              "      (bn1): BatchNorm2d(256, eps=1e-05, momentum=0.1, affine=True, track_running_stats=True)\n",
              "      (conv2): Conv2d(256, 256, kernel_size=(3, 3), stride=(1, 1), padding=(1, 1), bias=False)\n",
              "      (bn2): BatchNorm2d(256, eps=1e-05, momentum=0.1, affine=True, track_running_stats=True)\n",
              "      (conv3): Conv2d(256, 1024, kernel_size=(1, 1), stride=(1, 1), bias=False)\n",
              "      (bn3): BatchNorm2d(1024, eps=1e-05, momentum=0.1, affine=True, track_running_stats=True)\n",
              "      (relu): ReLU(inplace=True)\n",
              "    )\n",
              "    (4): Bottleneck(\n",
              "      (conv1): Conv2d(1024, 256, kernel_size=(1, 1), stride=(1, 1), bias=False)\n",
              "      (bn1): BatchNorm2d(256, eps=1e-05, momentum=0.1, affine=True, track_running_stats=True)\n",
              "      (conv2): Conv2d(256, 256, kernel_size=(3, 3), stride=(1, 1), padding=(1, 1), bias=False)\n",
              "      (bn2): BatchNorm2d(256, eps=1e-05, momentum=0.1, affine=True, track_running_stats=True)\n",
              "      (conv3): Conv2d(256, 1024, kernel_size=(1, 1), stride=(1, 1), bias=False)\n",
              "      (bn3): BatchNorm2d(1024, eps=1e-05, momentum=0.1, affine=True, track_running_stats=True)\n",
              "      (relu): ReLU(inplace=True)\n",
              "    )\n",
              "    (5): Bottleneck(\n",
              "      (conv1): Conv2d(1024, 256, kernel_size=(1, 1), stride=(1, 1), bias=False)\n",
              "      (bn1): BatchNorm2d(256, eps=1e-05, momentum=0.1, affine=True, track_running_stats=True)\n",
              "      (conv2): Conv2d(256, 256, kernel_size=(3, 3), stride=(1, 1), padding=(1, 1), bias=False)\n",
              "      (bn2): BatchNorm2d(256, eps=1e-05, momentum=0.1, affine=True, track_running_stats=True)\n",
              "      (conv3): Conv2d(256, 1024, kernel_size=(1, 1), stride=(1, 1), bias=False)\n",
              "      (bn3): BatchNorm2d(1024, eps=1e-05, momentum=0.1, affine=True, track_running_stats=True)\n",
              "      (relu): ReLU(inplace=True)\n",
              "    )\n",
              "  )\n",
              "  (layer4): Sequential(\n",
              "    (0): Bottleneck(\n",
              "      (conv1): Conv2d(1024, 512, kernel_size=(1, 1), stride=(1, 1), bias=False)\n",
              "      (bn1): BatchNorm2d(512, eps=1e-05, momentum=0.1, affine=True, track_running_stats=True)\n",
              "      (conv2): Conv2d(512, 512, kernel_size=(3, 3), stride=(2, 2), padding=(1, 1), bias=False)\n",
              "      (bn2): BatchNorm2d(512, eps=1e-05, momentum=0.1, affine=True, track_running_stats=True)\n",
              "      (conv3): Conv2d(512, 2048, kernel_size=(1, 1), stride=(1, 1), bias=False)\n",
              "      (bn3): BatchNorm2d(2048, eps=1e-05, momentum=0.1, affine=True, track_running_stats=True)\n",
              "      (relu): ReLU(inplace=True)\n",
              "      (downsample): Sequential(\n",
              "        (0): Conv2d(1024, 2048, kernel_size=(1, 1), stride=(2, 2), bias=False)\n",
              "        (1): BatchNorm2d(2048, eps=1e-05, momentum=0.1, affine=True, track_running_stats=True)\n",
              "      )\n",
              "    )\n",
              "    (1): Bottleneck(\n",
              "      (conv1): Conv2d(2048, 512, kernel_size=(1, 1), stride=(1, 1), bias=False)\n",
              "      (bn1): BatchNorm2d(512, eps=1e-05, momentum=0.1, affine=True, track_running_stats=True)\n",
              "      (conv2): Conv2d(512, 512, kernel_size=(3, 3), stride=(1, 1), padding=(1, 1), bias=False)\n",
              "      (bn2): BatchNorm2d(512, eps=1e-05, momentum=0.1, affine=True, track_running_stats=True)\n",
              "      (conv3): Conv2d(512, 2048, kernel_size=(1, 1), stride=(1, 1), bias=False)\n",
              "      (bn3): BatchNorm2d(2048, eps=1e-05, momentum=0.1, affine=True, track_running_stats=True)\n",
              "      (relu): ReLU(inplace=True)\n",
              "    )\n",
              "    (2): Bottleneck(\n",
              "      (conv1): Conv2d(2048, 512, kernel_size=(1, 1), stride=(1, 1), bias=False)\n",
              "      (bn1): BatchNorm2d(512, eps=1e-05, momentum=0.1, affine=True, track_running_stats=True)\n",
              "      (conv2): Conv2d(512, 512, kernel_size=(3, 3), stride=(1, 1), padding=(1, 1), bias=False)\n",
              "      (bn2): BatchNorm2d(512, eps=1e-05, momentum=0.1, affine=True, track_running_stats=True)\n",
              "      (conv3): Conv2d(512, 2048, kernel_size=(1, 1), stride=(1, 1), bias=False)\n",
              "      (bn3): BatchNorm2d(2048, eps=1e-05, momentum=0.1, affine=True, track_running_stats=True)\n",
              "      (relu): ReLU(inplace=True)\n",
              "    )\n",
              "  )\n",
              "  (avgpool): AdaptiveAvgPool2d(output_size=(1, 1))\n",
              "  (fc): Sequential(\n",
              "    (0): Dropout(p=0.5, inplace=False)\n",
              "    (1): Linear(in_features=2048, out_features=38, bias=True)\n",
              "  )\n",
              ")"
            ]
          },
          "metadata": {},
          "execution_count": 16
        }
      ]
    },
    {
      "cell_type": "code",
      "source": [],
      "metadata": {
        "id": "j8vYtl3GwK8m"
      },
      "execution_count": null,
      "outputs": []
    },
    {
      "cell_type": "code",
      "source": [
        "\n",
        "\n",
        "def get_predictions(model, loader):\n",
        "    all_preds, all_labels = [], []\n",
        "    with torch.no_grad():\n",
        "        for inputs, labels in loader:\n",
        "            inputs, labels = inputs.to(device), labels.to(device)\n",
        "            outputs = model(inputs)\n",
        "            _, preds = torch.max(outputs, 1)\n",
        "            all_preds.extend(preds.cpu().numpy())\n",
        "            all_labels.extend(labels.cpu().numpy())\n",
        "    return all_labels, all_preds\n",
        "\n",
        "\n",
        "labels_eff, preds_eff = get_predictions(model_eff, test_loader)\n",
        "labels_res, preds_res = get_predictions(model_res, test_loader)\n"
      ],
      "metadata": {
        "id": "JZtEJQ1jwePl"
      },
      "execution_count": 17,
      "outputs": []
    },
    {
      "cell_type": "code",
      "source": [],
      "metadata": {
        "id": "vE2rSSqNweMC"
      },
      "execution_count": null,
      "outputs": []
    },
    {
      "cell_type": "code",
      "source": [
        "\n",
        "precision_eff, recall_eff, f1_eff, _ = precision_recall_fscore_support(labels_eff, preds_eff, average='macro')\n",
        "precision_res, recall_res, f1_res, _ = precision_recall_fscore_support(labels_res, preds_res, average='macro')\n"
      ],
      "metadata": {
        "id": "1U9wkWYxweJs"
      },
      "execution_count": 18,
      "outputs": []
    },
    {
      "cell_type": "code",
      "source": [],
      "metadata": {
        "id": "SntM-zDyweHd"
      },
      "execution_count": null,
      "outputs": []
    },
    {
      "cell_type": "markdown",
      "source": [
        "##### Bar Chart of Precision, Recall, F1 Score of EfficientNet and ResNet"
      ],
      "metadata": {
        "id": "2OzR8zDB-eBe"
      }
    },
    {
      "cell_type": "code",
      "source": [
        "metrics = ['Precision', 'Recall', 'F1 Score']\n",
        "eff_values = [precision_eff, recall_eff, f1_eff]\n",
        "res_values = [precision_res, recall_res, f1_res]\n",
        "\n",
        "x = np.arange(len(metrics))\n",
        "width = 0.35\n",
        "\n",
        "plt.figure(figsize=(8, 5))\n",
        "plt.bar(x - width/2, eff_values, width, label='EfficientNet-B0', color='skyblue')\n",
        "plt.bar(x + width/2, res_values, width, label='ResNet-50', color='lightgreen')\n",
        "\n",
        "plt.ylabel(\"Score\")\n",
        "plt.ylim(0, 1.05)\n",
        "plt.title(\"F1, Precision, Recall Comparison (Macro Average)\")\n",
        "plt.xticks(x, metrics)\n",
        "plt.legend()\n",
        "plt.grid(True, axis='y')\n",
        "plt.tight_layout()\n",
        "plt.show()\n"
      ],
      "metadata": {
        "colab": {
          "base_uri": "https://localhost:8080/",
          "height": 507
        },
        "id": "viSTiyKYweEy",
        "outputId": "2b44c6db-5832-4362-bce3-52d527175772"
      },
      "execution_count": 19,
      "outputs": [
        {
          "output_type": "display_data",
          "data": {
            "text/plain": [
              "<Figure size 800x500 with 1 Axes>"
            ],
            "image/png": "[encoded data removed]"
          },
          "metadata": {}
        }
      ]
    },
    {
      "cell_type": "code",
      "source": [],
      "metadata": {
        "id": "8Y18p3q7weCW"
      },
      "execution_count": null,
      "outputs": []
    },
    {
      "cell_type": "markdown",
      "source": [
        "##### Detailed Accuracy Results of both the Models"
      ],
      "metadata": {
        "id": "qe2bl51w-TDe"
      }
    },
    {
      "cell_type": "code",
      "source": [
        "def evaluate_model(model, loader, name=\"Model\"):\n",
        "    model.eval()\n",
        "    all_preds, all_labels = [], []\n",
        "    with torch.no_grad():\n",
        "        for inputs, labels in loader:\n",
        "            inputs, labels = inputs.to(device), labels.to(device)\n",
        "            outputs = model(inputs)\n",
        "            _, preds = torch.max(outputs, 1)\n",
        "            all_preds.extend(preds.cpu().numpy())\n",
        "            all_labels.extend(labels.cpu().numpy())\n",
        "    print(f\"\\n Classification Report for {name}:\")\n",
        "    print(classification_report(all_labels, all_preds, target_names=class_names))\n",
        "\n",
        "# Run Evaluation for Both models\n",
        "evaluate_model(model_eff, test_loader, \"EfficientNet-B0\")\n",
        "evaluate_model(model_res, test_loader, \"ResNet-50\")\n"
      ],
      "metadata": {
        "colab": {
          "base_uri": "https://localhost:8080/"
        },
        "id": "3MfBluUXxnz8",
        "outputId": "48982fe1-7f91-492b-cac1-82c8bf5d7b1e"
      },
      "execution_count": 21,
      "outputs": [
        {
          "output_type": "stream",
          "name": "stdout",
          "text": [
            "\n",
            " Classification Report for EfficientNet-B0:\n",
            "                                                    precision    recall  f1-score   support\n",
            "\n",
            "                                Apple___Apple_scab       0.92      0.87      0.90       126\n",
            "                                 Apple___Black_rot       0.98      1.00      0.99       125\n",
            "                          Apple___Cedar_apple_rust       0.93      1.00      0.96        55\n",
            "                                   Apple___healthy       0.98      0.95      0.97       329\n",
            "                               Blueberry___healthy       0.98      0.99      0.99       301\n",
            "          Cherry_(including_sour)___Powdery_mildew       0.96      0.99      0.97       211\n",
            "                 Cherry_(including_sour)___healthy       0.96      0.99      0.98       171\n",
            "Corn_(maize)___Cercospora_leaf_spot Gray_leaf_spot       0.67      0.90      0.77       103\n",
            "                       Corn_(maize)___Common_rust_       0.95      0.99      0.97       239\n",
            "               Corn_(maize)___Northern_Leaf_Blight       0.91      0.78      0.84       197\n",
            "                            Corn_(maize)___healthy       0.99      1.00      0.99       233\n",
            "                                 Grape___Black_rot       0.96      0.98      0.97       236\n",
            "                      Grape___Esca_(Black_Measles)       0.97      0.97      0.97       277\n",
            "        Grape___Leaf_blight_(Isariopsis_Leaf_Spot)       1.00      0.97      0.98       216\n",
            "                                   Grape___healthy       0.99      1.00      0.99        85\n",
            "          Orange___Haunglongbing_(Citrus_greening)       0.99      1.00      0.99      1102\n",
            "                            Peach___Bacterial_spot       0.99      0.93      0.96       460\n",
            "                                   Peach___healthy       0.79      1.00      0.88        72\n",
            "                     Pepper,_bell___Bacterial_spot       0.97      0.97      0.97       200\n",
            "                            Pepper,_bell___healthy       0.98      0.97      0.97       296\n",
            "                             Potato___Early_blight       0.95      0.96      0.96       200\n",
            "                              Potato___Late_blight       0.85      0.96      0.90       200\n",
            "                                  Potato___healthy       0.67      1.00      0.81        31\n",
            "                               Raspberry___healthy       0.96      0.99      0.97        75\n",
            "                                 Soybean___healthy       0.98      0.98      0.98      1018\n",
            "                           Squash___Powdery_mildew       1.00      0.99      0.99       367\n",
            "                          Strawberry___Leaf_scorch       0.98      0.99      0.99       222\n",
            "                              Strawberry___healthy       1.00      1.00      1.00        92\n",
            "                           Tomato___Bacterial_spot       0.89      0.95      0.92       426\n",
            "                             Tomato___Early_blight       0.67      0.89      0.77       200\n",
            "                              Tomato___Late_blight       0.91      0.81      0.86       382\n",
            "                                Tomato___Leaf_Mold       0.93      0.94      0.93       191\n",
            "                       Tomato___Septoria_leaf_spot       0.97      0.79      0.87       355\n",
            "     Tomato___Spider_mites Two-spotted_spider_mite       0.94      0.94      0.94       336\n",
            "                              Tomato___Target_Spot       0.94      0.85      0.89       281\n",
            "            Tomato___Tomato_Yellow_Leaf_Curl_Virus       0.99      0.96      0.98      1072\n",
            "                      Tomato___Tomato_mosaic_virus       0.88      1.00      0.94        75\n",
            "                                  Tomato___healthy       0.99      0.97      0.98       319\n",
            "\n",
            "                                          accuracy                           0.95     10876\n",
            "                                         macro avg       0.93      0.95      0.94     10876\n",
            "                                      weighted avg       0.96      0.95      0.95     10876\n",
            "\n",
            "\n",
            " Classification Report for ResNet-50:\n",
            "                                                    precision    recall  f1-score   support\n",
            "\n",
            "                                Apple___Apple_scab       0.94      0.98      0.96       126\n",
            "                                 Apple___Black_rot       0.98      0.99      0.98       125\n",
            "                          Apple___Cedar_apple_rust       0.90      1.00      0.95        55\n",
            "                                   Apple___healthy       0.97      0.98      0.98       329\n",
            "                               Blueberry___healthy       0.99      0.99      0.99       301\n",
            "          Cherry_(including_sour)___Powdery_mildew       0.97      0.98      0.98       211\n",
            "                 Cherry_(including_sour)___healthy       0.95      1.00      0.97       171\n",
            "Corn_(maize)___Cercospora_leaf_spot Gray_leaf_spot       0.89      0.90      0.90       103\n",
            "                       Corn_(maize)___Common_rust_       1.00      1.00      1.00       239\n",
            "               Corn_(maize)___Northern_Leaf_Blight       0.94      0.95      0.95       197\n",
            "                            Corn_(maize)___healthy       0.99      1.00      1.00       233\n",
            "                                 Grape___Black_rot       0.97      0.99      0.98       236\n",
            "                      Grape___Esca_(Black_Measles)       0.99      0.98      0.99       277\n",
            "        Grape___Leaf_blight_(Isariopsis_Leaf_Spot)       1.00      1.00      1.00       216\n",
            "                                   Grape___healthy       0.93      1.00      0.97        85\n",
            "          Orange___Haunglongbing_(Citrus_greening)       1.00      0.99      0.99      1102\n",
            "                            Peach___Bacterial_spot       0.98      0.98      0.98       460\n",
            "                                   Peach___healthy       0.96      1.00      0.98        72\n",
            "                     Pepper,_bell___Bacterial_spot       0.98      0.97      0.97       200\n",
            "                            Pepper,_bell___healthy       0.97      0.98      0.97       296\n",
            "                             Potato___Early_blight       0.97      0.99      0.98       200\n",
            "                              Potato___Late_blight       0.93      0.95      0.94       200\n",
            "                                  Potato___healthy       0.65      1.00      0.78        31\n",
            "                               Raspberry___healthy       0.91      0.99      0.95        75\n",
            "                                 Soybean___healthy       0.99      0.95      0.97      1018\n",
            "                           Squash___Powdery_mildew       1.00      0.99      1.00       367\n",
            "                          Strawberry___Leaf_scorch       0.98      1.00      0.99       222\n",
            "                              Strawberry___healthy       0.96      1.00      0.98        92\n",
            "                           Tomato___Bacterial_spot       0.96      0.97      0.96       426\n",
            "                             Tomato___Early_blight       0.93      0.94      0.93       200\n",
            "                              Tomato___Late_blight       0.96      0.91      0.94       382\n",
            "                                Tomato___Leaf_Mold       0.98      0.96      0.97       191\n",
            "                       Tomato___Septoria_leaf_spot       0.98      0.95      0.97       355\n",
            "     Tomato___Spider_mites Two-spotted_spider_mite       0.94      0.96      0.95       336\n",
            "                              Tomato___Target_Spot       0.92      0.95      0.93       281\n",
            "            Tomato___Tomato_Yellow_Leaf_Curl_Virus       0.99      0.97      0.98      1072\n",
            "                      Tomato___Tomato_mosaic_virus       0.91      1.00      0.96        75\n",
            "                                  Tomato___healthy       0.99      1.00      1.00       319\n",
            "\n",
            "                                          accuracy                           0.97     10876\n",
            "                                         macro avg       0.95      0.98      0.96     10876\n",
            "                                      weighted avg       0.97      0.97      0.97     10876\n",
            "\n"
          ]
        }
      ]
    },
    {
      "cell_type": "code",
      "source": [],
      "metadata": {
        "id": "zn7c4l90xnwc"
      },
      "execution_count": null,
      "outputs": []
    }
  ]
}